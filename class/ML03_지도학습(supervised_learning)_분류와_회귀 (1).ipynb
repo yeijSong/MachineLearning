{
  "nbformat": 4,
  "nbformat_minor": 0,
  "metadata": {
    "colab": {
      "name": "ML03_지도학습(supervised-learning) 분류와 회귀.ipynb",
      "provenance": [],
      "collapsed_sections": []
    },
    "kernelspec": {
      "name": "python3",
      "display_name": "Python 3"
    },
    "language_info": {
      "name": "python"
    }
  },
  "cells": [
    {
      "cell_type": "code",
      "metadata": {
        "id": "OAxO7-j_fifM"
      },
      "source": [
        "pip install mglearn"
      ],
      "execution_count": null,
      "outputs": []
    },
    {
      "cell_type": "code",
      "metadata": {
        "colab": {
          "base_uri": "https://localhost:8080/"
        },
        "id": "OOt1HP3bfVTj",
        "outputId": "32ecebd3-ac84-4985-93f0-be30c4df608a"
      },
      "source": [
        "# 한글깨짐방지\n",
        "\n",
        "import matplotlib as mpl\n",
        "import matplotlib.pyplot as plt\n",
        " \n",
        "%config InlineBackend.figure_format = 'retina'\n",
        " \n",
        "!apt -qq -y install fonts-nanum\n",
        " \n",
        "import matplotlib.font_manager as fm\n",
        "\n",
        "fontpath = '/usr/share/fonts/truetype/nanum/NanumBarunGothic.ttf'\n",
        "font = fm.FontProperties(fname=fontpath, size=9)\n",
        "plt.rc('font', family='NanumBarunGothic') \n",
        "mpl.font_manager._rebuild()"
      ],
      "execution_count": null,
      "outputs": [
        {
          "output_type": "stream",
          "text": [
            "fonts-nanum is already the newest version (20170925-1).\n",
            "0 upgraded, 0 newly installed, 0 to remove and 39 not upgraded.\n"
          ],
          "name": "stdout"
        }
      ]
    },
    {
      "cell_type": "code",
      "metadata": {
        "id": "fOTbYSB-f4o4"
      },
      "source": [
        "import mglearn\n",
        "import matplotlib.pyplot as plt"
      ],
      "execution_count": null,
      "outputs": []
    },
    {
      "cell_type": "markdown",
      "metadata": {
        "id": "umUW5kMlhrqZ"
      },
      "source": [
        "### k-최근접 이웃"
      ]
    },
    {
      "cell_type": "markdown",
      "metadata": {
        "id": "VIdLC69rhvh0"
      },
      "source": [
        "**k-최근접 이웃 분류**<br>\n",
        "**: 알고리즘이 훈련 데이터셋에서 가장 가까운 데이터 포인트를 찾음 -> 최근접 이웃(Nearest Neighbors)**"
      ]
    },
    {
      "cell_type": "markdown",
      "metadata": {
        "id": "bHuo6JoxiB_7"
      },
      "source": [
        "forge 데이터셋 분류<br>\n",
        "ex) forge데이터 셋에 대한 1-최근접 이웃 모델의 예측"
      ]
    },
    {
      "cell_type": "code",
      "metadata": {
        "id": "jihgBQJUf9dH"
      },
      "source": [
        "plt.figure(dpi=100)\n",
        "plt.rc('font', family='NanumBarunGothic')\n",
        "\n",
        "mglearn.plots.plot_knn_classification(n_neighbors=1) # 제일 근접한 이웃 1개 선택"
      ],
      "execution_count": null,
      "outputs": []
    },
    {
      "cell_type": "markdown",
      "metadata": {
        "id": "MDchRFWziUxL"
      },
      "source": [
        "forge 데이터셋 분류<br>\n",
        "ex) forge데이터 셋에 대한 3-최근접 이웃 모델의 예측"
      ]
    },
    {
      "cell_type": "code",
      "metadata": {
        "id": "mQO2gc3vhabE"
      },
      "source": [
        "plt.figure(dpi=100)\n",
        "plt.rc('font', family='NanumBarunGothic')\n",
        "\n",
        "mglearn.plots.plot_knn_classification(n_neighbors=3) # 제일 근접한 이웃 3개 선택"
      ],
      "execution_count": null,
      "outputs": []
    },
    {
      "cell_type": "markdown",
      "metadata": {
        "id": "eggybB74jrtz"
      },
      "source": [
        "### 분류 문제정의 : forge데이터 셋을 사용한 이진 분류(Label,1)예측하기<br>\n",
        "### k-최근접 이웃 알고리즘 적용하여 예측하고 평가하기"
      ]
    },
    {
      "cell_type": "markdown",
      "metadata": {
        "id": "1gB2RFiAj54M"
      },
      "source": [
        "데이터 준비하기"
      ]
    },
    {
      "cell_type": "code",
      "metadata": {
        "id": "dC_V9HDAhnCP"
      },
      "source": [
        "X, y = mglearn.datasets.make_forge() # X: 데이터(feature), y: 레이블(label, 정답)\n",
        "X, y"
      ],
      "execution_count": null,
      "outputs": []
    },
    {
      "cell_type": "markdown",
      "metadata": {
        "id": "V50d5PgSkUOA"
      },
      "source": [
        "일반화 성능을 평가할 수 있도록 데이터 분리(교차검증)->훈련세트(traintest), 테스트세트(testset)"
      ]
    },
    {
      "cell_type": "code",
      "metadata": {
        "id": "iU-rleQpkKpa"
      },
      "source": [
        "from sklearn.model_selection import train_test_split\n",
        "\n",
        "X_train, X_test, y_train, y_test = train_test_split(X, y, random_state=7)"
      ],
      "execution_count": null,
      "outputs": []
    },
    {
      "cell_type": "markdown",
      "metadata": {
        "id": "61HmK_eIk8nf"
      },
      "source": [
        "KNeighborClassifier를 불러와서 객체 생성"
      ]
    },
    {
      "cell_type": "code",
      "metadata": {
        "id": "gz1k1--bktJX"
      },
      "source": [
        "from sklearn.neighbors import KNeighborsClassifier\n",
        "\n",
        "clf = KNeighborsClassifier(n_neighbors=3) # 이웃의 수 3개로 지정"
      ],
      "execution_count": null,
      "outputs": []
    },
    {
      "cell_type": "markdown",
      "metadata": {
        "id": "s-Ys1nCTleI3"
      },
      "source": [
        "훈련 세트를 사용하여 분류 모델 학습"
      ]
    },
    {
      "cell_type": "code",
      "metadata": {
        "colab": {
          "base_uri": "https://localhost:8080/"
        },
        "id": "dJLfwUgOlZSw",
        "outputId": "c71137bb-95e8-4dc6-88b8-39d3b0762705"
      },
      "source": [
        "clf.fit(X_train,y_train) # 문제와 정답을 줄게 공부해"
      ],
      "execution_count": null,
      "outputs": [
        {
          "output_type": "execute_result",
          "data": {
            "text/plain": [
              "KNeighborsClassifier(algorithm='auto', leaf_size=30, metric='minkowski',\n",
              "                     metric_params=None, n_jobs=None, n_neighbors=3, p=2,\n",
              "                     weights='uniform')"
            ]
          },
          "metadata": {
            "tags": []
          },
          "execution_count": 8
        }
      ]
    },
    {
      "cell_type": "markdown",
      "metadata": {
        "id": "semHTXhxl9dQ"
      },
      "source": [
        "**테스트 데이터에 대해 predict매서드를 호출해서 예측**"
      ]
    },
    {
      "cell_type": "markdown",
      "metadata": {
        "id": "yWmeAcT0mEdH"
      },
      "source": [
        "테스트 세트의 각 데이터 포인트에 대해 훈련세트에서 가장 가까운 이웃을 계산<br>\n",
        "-> 가장 많은 클래스를 찾기 -> 예측"
      ]
    },
    {
      "cell_type": "code",
      "metadata": {
        "colab": {
          "base_uri": "https://localhost:8080/"
        },
        "id": "Ro7z6HU1lnWD",
        "outputId": "7940de10-6781-4a43-a18d-70bfa9542866"
      },
      "source": [
        "clf.predict(X_test)"
      ],
      "execution_count": null,
      "outputs": [
        {
          "output_type": "execute_result",
          "data": {
            "text/plain": [
              "array([0, 1, 0, 0, 0, 1, 1])"
            ]
          },
          "metadata": {
            "tags": []
          },
          "execution_count": 9
        }
      ]
    },
    {
      "cell_type": "markdown",
      "metadata": {
        "id": "e-Nzp1ojmShU"
      },
      "source": [
        "**모델이 얼마나 잘 일반화되었는지 평가 -> 정확도**"
      ]
    },
    {
      "cell_type": "markdown",
      "metadata": {
        "id": "HUwUUGlLmWzp"
      },
      "source": [
        "score()함수 사용 -> 테스트 데이터와 테스트 레이블을 넣어 호출"
      ]
    },
    {
      "cell_type": "code",
      "metadata": {
        "colab": {
          "base_uri": "https://localhost:8080/"
        },
        "id": "aBGx6_ogmRmH",
        "outputId": "56b8dd70-7e7a-4b61-f9d9-fc73360d3112"
      },
      "source": [
        "clf.score(X_test, y_test)"
      ],
      "execution_count": null,
      "outputs": [
        {
          "output_type": "execute_result",
          "data": {
            "text/plain": [
              "0.8571428571428571"
            ]
          },
          "metadata": {
            "tags": []
          },
          "execution_count": 10
        }
      ]
    },
    {
      "cell_type": "code",
      "metadata": {
        "colab": {
          "base_uri": "https://localhost:8080/"
        },
        "id": "uyFhK5oQmd9i",
        "outputId": "d9795971-1dc0-4efe-d23a-b31d44aa14ca"
      },
      "source": [
        "clf.score(X_train, y_train) # 학습세트의 정확도 확인"
      ],
      "execution_count": null,
      "outputs": [
        {
          "output_type": "execute_result",
          "data": {
            "text/plain": [
              "0.9473684210526315"
            ]
          },
          "metadata": {
            "tags": []
          },
          "execution_count": 11
        }
      ]
    },
    {
      "cell_type": "markdown",
      "metadata": {
        "id": "Gcn2j8T-otyK"
      },
      "source": [
        "### KNeighborsClassifier분석\n",
        "\n",
        "*   이웃을 하나 선택했을 때는 결정 경계가 훈련데이터에 가깝게 따라가고 있음\n",
        "*   이웃의 수를 늘릴수록 결정 경계는 더 부드러워짐\n",
        "*   부드러운 경계는 더 단순한 모델을 의미\n"
      ]
    },
    {
      "cell_type": "code",
      "metadata": {
        "id": "oLmSNxZumndw"
      },
      "source": [
        "fig, axes = plt.subplots(1,3, figsize=(10,3), dpi=100)\n",
        "\n",
        "for n_neighbors, ax in zip([1,3,9], axes) : # 이웃이 1,3,9일 때의 결정경계\n",
        "  clf = KNeighborsClassifier(n_neighbors=n_neighbors).fit(X,y)\n",
        "\n",
        "  # 2차원 데이터셋 분할 평면 그리기 mglearn.plot_2d_separator(model 객체, train 데이터, 평면 칠하기, 투명도)\n",
        "  mglearn.plots.plot_2d_separator(clf, X, fill=True, eps=0.5, ax=ax, alpha=.4)\n",
        "  mglearn.discrete_scatter(X[:,0], X[:,1], y, ax=ax) # 2차원 산점도 그리기 위해\n",
        "\n",
        "  ax.set_title('{} 이웃'.format(n_neighbors))\n",
        "  ax.set_xlabel('특성 0')\n",
        "  ax.set_ylabel('특성 1')\n",
        "\n",
        "axes[0].legend(loc=3)\n",
        "plt.show()"
      ],
      "execution_count": null,
      "outputs": []
    },
    {
      "cell_type": "markdown",
      "metadata": {
        "id": "lrusRhQez0Bk"
      },
      "source": [
        "이웃의 수(결정경계)에 따른 성능 평가"
      ]
    },
    {
      "cell_type": "code",
      "metadata": {
        "id": "A7fKKZNYz3Et"
      },
      "source": [
        "# 이웃의 수에 따른 정확도 저장할 리스트 변수\n",
        "train_accuracy = []\n",
        "test_accuracy = []\n",
        "\n",
        "# 1에서 10까지 n_neighbors를 적용\n",
        "neighbors_settings = range(1,11)\n",
        "\n",
        "for n_neighbors in neighbors_settings :\n",
        "  # 모델 생성\n",
        "  clf = KNeighborsClassifier(n_neighbors=n_neighbors)\n",
        "  clf.fit(X_train, y_train)\n",
        "\n",
        "  # 훈련 세트 정확도 저장\n",
        "  train_accuracy.append(clf.score(X_train, y_train))\n",
        "\n",
        "  # 테스트 세트 정확도 저장\n",
        "  test_accuracy.append(clf.score(X_test, y_test))\n",
        "\n",
        "plt.figure(dpi=100)\n",
        "plt.rc('font', family='NanumBarunGothic')\n",
        "\n",
        "plt.plot(neighbors_settings, train_accuracy, label='훈련 정확도')\n",
        "plt.plot(neighbors_settings, test_accuracy, label='테스트 정확도')\n",
        "plt.ylabel('정확도')\n",
        "plt.xlabel('n_neighbors')\n",
        "plt.legend()\n",
        "plt.show()\n",
        "\n",
        "# n_neigbors=3인경우가 최상의 정확도"
      ],
      "execution_count": null,
      "outputs": []
    },
    {
      "cell_type": "markdown",
      "metadata": {
        "id": "qjiuFE1_2pJP"
      },
      "source": [
        "### 유방암 데이터셋을 사용하여 이웃의 수(결정경계)에 따른 성능 평가"
      ]
    },
    {
      "cell_type": "markdown",
      "metadata": {
        "id": "B-V6RHDb2v3I"
      },
      "source": [
        "데이터 준비하기"
      ]
    },
    {
      "cell_type": "code",
      "metadata": {
        "id": "QgTn6tWD2tQ1"
      },
      "source": [
        "from sklearn.datasets import load_breast_cancer\n",
        "\n",
        "cancer = load_breast_cancer() # 데이터 다운로드"
      ],
      "execution_count": null,
      "outputs": []
    },
    {
      "cell_type": "markdown",
      "metadata": {
        "id": "ovzCrdSC3DiJ"
      },
      "source": [
        "데이터셋 분리하기(훈련셋, 테스트셋)"
      ]
    },
    {
      "cell_type": "code",
      "metadata": {
        "id": "eP7uQoRL3F-P"
      },
      "source": [
        "from sklearn.model_selection import train_test_split\n",
        "\n",
        "X_train, X_test, y_train, y_test = train_test_split(\n",
        "    cancer.data,\n",
        "    cancer.target,\n",
        "    stratify=cancer.target, #(y인 cancer.target과 비슷하게 잘라라)\n",
        "    random_state=66\n",
        ")"
      ],
      "execution_count": null,
      "outputs": []
    },
    {
      "cell_type": "markdown",
      "metadata": {
        "id": "20IbUlVY38TT"
      },
      "source": [
        "이웃의 수(결정경계)에 따른 성능 평가"
      ]
    },
    {
      "cell_type": "code",
      "metadata": {
        "id": "xZywtW_y39FI"
      },
      "source": [
        "# 이웃의 수에 따른 정확도 저장할 리스트 변수\n",
        "train_accuracy = []\n",
        "test_accuracy = []\n",
        "\n",
        "# 1에서 10까지 n_neighbors를 적용\n",
        "neighbors_settings = range(1,11)\n",
        "\n",
        "for n_neighbors in neighbors_settings :\n",
        "  # 모델 생성\n",
        "  clf = KNeighborsClassifier(n_neighbors=n_neighbors)\n",
        "  clf.fit(X_train, y_train)\n",
        "\n",
        "  # 훈련 세트 정확도 저장\n",
        "  train_accuracy.append(clf.score(X_train, y_train))\n",
        "\n",
        "  # 테스트 세트 정확도 저장\n",
        "  test_accuracy.append(clf.score(X_test, y_test))\n",
        "\n",
        "plt.figure(dpi=100)\n",
        "plt.rc('font', family='NanumBarunGothic')\n",
        "\n",
        "plt.plot(neighbors_settings, train_accuracy, label='훈련 정확도')\n",
        "plt.plot(neighbors_settings, test_accuracy, label='테스트 정확도')\n",
        "plt.ylabel('정확도')\n",
        "plt.xlabel('n_neighbors')\n",
        "plt.legend()\n",
        "plt.show()\n",
        "\n",
        "# n_neigbors=6인경우가 최상의 정확도\n",
        "# 훈련정확도가 1.0이면 overfitting(과대적합)을 의심할 것\n",
        "# 모델들의 기본 성능은 50%이상으로 생각할 것(이하면 모델을 다시 생각해볼 것)"
      ],
      "execution_count": null,
      "outputs": []
    },
    {
      "cell_type": "markdown",
      "metadata": {
        "id": "S68f505a7lm-"
      },
      "source": [
        "성능평가_ROC커브"
      ]
    },
    {
      "cell_type": "code",
      "metadata": {
        "id": "xEknTBgH9A87"
      },
      "source": [
        "# Library for Analyzing the ML model\n",
        "from sklearn import metrics\n",
        "\n",
        "# 모델 생성\n",
        "clf = KNeighborsClassifier(n_neighbors=1).fit(X_train, y_train)\n",
        "probs = clf.predict_proba(X_test)\n",
        "preds = probs[:,1]\n",
        "fpr, tpr, threshold = metrics.roc_curve(y_test, preds)\n",
        "roc_auc = metrics.auc(fpr, tpr)\n",
        "\n",
        "# method I: plt\n",
        "import matplotlib.pyplot as plt\n",
        "plt.title('Receiver Operating Characteristic')\n",
        "plt.plot(fpr,tpr,'b',label='AUC = %0.2f'%roc_auc)\n",
        "plt.legend(loc='lower right')\n",
        "plt.plot([0,1],[0,1],'r--')\n",
        "plt.xlim([0,1])\n",
        "plt.ylim([0,1])\n",
        "plt.ylabel('True Positive Rate')\n",
        "plt.xlabel('False Positive Rate')\n",
        "plt.show()"
      ],
      "execution_count": null,
      "outputs": []
    },
    {
      "cell_type": "code",
      "metadata": {
        "colab": {
          "base_uri": "https://localhost:8080/"
        },
        "id": "wO0U5KBYLFoB",
        "outputId": "03f335c0-898e-46e2-93d8-083d0c0d4fa6"
      },
      "source": [
        "# test data를 가지고 y_hat을 예측(분류)\n",
        "y_hat = clf.predict(X_test)\n",
        "\n",
        "# 모형 성능 평가 - 평가지표 계산\n",
        "knn_report = metrics.classification_report(y_test, y_hat)\n",
        "print(knn_report)"
      ],
      "execution_count": null,
      "outputs": [
        {
          "output_type": "stream",
          "text": [
            "              precision    recall  f1-score   support\n",
            "\n",
            "           0       0.85      0.89      0.87        53\n",
            "           1       0.93      0.91      0.92        90\n",
            "\n",
            "    accuracy                           0.90       143\n",
            "   macro avg       0.89      0.90      0.90       143\n",
            "weighted avg       0.90      0.90      0.90       143\n",
            "\n"
          ],
          "name": "stdout"
        }
      ]
    },
    {
      "cell_type": "code",
      "metadata": {
        "colab": {
          "base_uri": "https://localhost:8080/"
        },
        "id": "8ph_8cdmLrHR",
        "outputId": "27237392-faad-49f6-a6e8-6f9bd1262f49"
      },
      "source": [
        "# sklearn을 이용하면 전부 계산해준다.\n",
        "print('accuracy:',metrics.accuracy_score(y_test, y_hat))\n",
        "print('precision:',metrics.precision_score(y_test, y_hat))\n",
        "print('recall:',metrics.recall_score(y_test, y_hat))\n",
        "print('f1:',metrics.f1_score(y_test, y_hat))"
      ],
      "execution_count": null,
      "outputs": [
        {
          "output_type": "stream",
          "text": [
            "accuracy: 0.9020979020979021\n",
            "precision: 0.9318181818181818\n",
            "recall: 0.9111111111111111\n",
            "f1: 0.9213483146067416\n"
          ],
          "name": "stdout"
        }
      ]
    },
    {
      "cell_type": "markdown",
      "metadata": {
        "id": "-NJ3QQP8iD8F"
      },
      "source": [
        "### k-Neighbors Regression\n",
        "* k=1 경우 그냥 가장 가까운 이웃의 타켓값\n",
        "* k >=2 경우 회귀분석 -> 여러 개의 최근접 이웃 간의 평균(average or mean)이 예측 값\n"
      ]
    },
    {
      "cell_type": "markdown",
      "metadata": {
        "id": "1XPs7ios2B4d"
      },
      "source": [
        "**wave 데이터셋을 사용하여 이웃의 수(결정경계)에 따라 성능 평가**"
      ]
    },
    {
      "cell_type": "markdown",
      "metadata": {
        "id": "Zgr30kib2Ji8"
      },
      "source": [
        "데이터셋 분리하기(훈련셋, 테스트셋)"
      ]
    },
    {
      "cell_type": "code",
      "metadata": {
        "id": "8Ni5S3xC1lJ8"
      },
      "source": [
        "from sklearn.neighbors import KNeighborsRegressor\n",
        "from sklearn.model_selection import train_test_split\n",
        "\n",
        "X,y = mglearn.datasets.make_wave(n_samples=40)\n",
        "\n",
        "# wave 데이터셋을 훈련세트와 테스트세트로 나눔\n",
        "X_train, X_test, y_train, y_test = train_test_split(X, y, random_state=777)"
      ],
      "execution_count": null,
      "outputs": []
    },
    {
      "cell_type": "code",
      "metadata": {
        "id": "qywOnJuH2nOv"
      },
      "source": [
        "# 이웃의 수는 3으로 하여 모델객체를 생성\n",
        "reg = KNeighborsRegressor(n_neighbors=3)"
      ],
      "execution_count": null,
      "outputs": []
    },
    {
      "cell_type": "markdown",
      "metadata": {
        "id": "VyQozZPI2vas"
      },
      "source": [
        "훈련세트를 사용하여 회귀모델 학습"
      ]
    },
    {
      "cell_type": "code",
      "metadata": {
        "colab": {
          "base_uri": "https://localhost:8080/"
        },
        "id": "wS-vSQ9O2uhg",
        "outputId": "e6b95b23-b176-4eef-8393-6e405694f972"
      },
      "source": [
        "reg.fit(X_train, y_train)"
      ],
      "execution_count": null,
      "outputs": [
        {
          "output_type": "execute_result",
          "data": {
            "text/plain": [
              "KNeighborsRegressor(algorithm='auto', leaf_size=30, metric='minkowski',\n",
              "                    metric_params=None, n_jobs=None, n_neighbors=3, p=2,\n",
              "                    weights='uniform')"
            ]
          },
          "metadata": {
            "tags": []
          },
          "execution_count": 34
        }
      ]
    },
    {
      "cell_type": "markdown",
      "metadata": {
        "id": "DUP_WsNN3Twm"
      },
      "source": [
        "성능평가 하기"
      ]
    },
    {
      "cell_type": "code",
      "metadata": {
        "colab": {
          "base_uri": "https://localhost:8080/"
        },
        "id": "t82yq1HF23NY",
        "outputId": "e5cf365d-21c4-47b3-c75e-f70e27b4616f"
      },
      "source": [
        "# score r-square 결정계수 0~1 사이값을 갖고, 관계가 높을 수록 1에 가까운 값을 가짐\n",
        "# 0에 가까울수록 데이터 분포를 제대로 표현하지 못한 것\n",
        "print('테스트 세트 R^2 : {:.2f}'.format(reg.score(X_test, y_test)))"
      ],
      "execution_count": null,
      "outputs": [
        {
          "output_type": "stream",
          "text": [
            "테스트 세트 R^2 : 0.55\n"
          ],
          "name": "stdout"
        }
      ]
    },
    {
      "cell_type": "markdown",
      "metadata": {
        "id": "mkCbuUBI4vqy"
      },
      "source": [
        "KNeighborsRegressor 분석"
      ]
    },
    {
      "cell_type": "code",
      "metadata": {
        "id": "016d1Pfk3aMq"
      },
      "source": [
        "import numpy as np\n",
        "\n",
        "fig, axes = plt.subplots(1, 3, figsize=(15, 4),dpi = 100)\n",
        "plt.rc('font', family ='NanumBarunGothic')\n",
        "plt.rcParams['axes.unicode_minus'] = False\n",
        "\n",
        "# -3 과 3 사이에 1,000 개의 데이터 포인트를 만듭니다\n",
        "line = np.linspace(-3, 3, 1000).reshape(-1, 1)\n",
        "for n_neighbors, ax in zip([1, 3, 9], axes):\n",
        "    # 1, 3, 9 이웃을 사용한 예측을 합니다\n",
        "    reg = KNeighborsRegressor(n_neighbors=n_neighbors)\n",
        "    reg.fit(X_train, y_train)\n",
        "    ax.plot(line, reg.predict(line))\n",
        "    ax.plot(X_train, y_train, '^', c=mglearn.cm2(0), markersize=8)\n",
        "    ax.plot(X_test, y_test, 'v', c=mglearn.cm2(1), markersize=8)\n",
        "\n",
        "    ax.set_title(\n",
        "        \"{} 이웃의 훈련 스코어: {:.2f} 테스트 스코어: {:.2f}\".format(\n",
        "            n_neighbors, reg.score(X_train, y_train), reg.score(X_test, y_test)))\n",
        "    ax.set_xlabel(\"특성\")\n",
        "    ax.set_ylabel(\"타깃\")\n",
        "    \n",
        "axes[0].legend([\"모델 예측\", \"훈련 데이터/타깃\", \"테스트 데이터/타깃\"], loc=\"best\")\n",
        "plt.show()\n"
      ],
      "execution_count": null,
      "outputs": []
    },
    {
      "cell_type": "markdown",
      "metadata": {
        "id": "vCMQfFfYDlVZ"
      },
      "source": [
        "### 선형 모델 : 선형함수를 만들어 예측 수행"
      ]
    },
    {
      "cell_type": "markdown",
      "metadata": {
        "id": "OWdpfD4BDsii"
      },
      "source": [
        "선형 회귀 모델"
      ]
    },
    {
      "cell_type": "code",
      "metadata": {
        "id": "g7TkivqxDsBR"
      },
      "source": [
        "mglearn.plots.plot_linear_regression_wave()"
      ],
      "execution_count": null,
      "outputs": []
    },
    {
      "cell_type": "markdown",
      "metadata": {
        "id": "L5GuMM5nD-72"
      },
      "source": [
        "**선형회귀(최소제곱법)**"
      ]
    },
    {
      "cell_type": "markdown",
      "metadata": {
        "id": "DMqu6s9cEE9z"
      },
      "source": [
        "데이터 준비하기"
      ]
    },
    {
      "cell_type": "code",
      "metadata": {
        "id": "jkU0g7HlD0nc"
      },
      "source": [
        "from sklearn.linear_model import LinearRegression\n",
        "from sklearn.model_selection import train_test_split\n",
        "\n",
        "X,y = mglearn.datasets.make_wave(n_samples=60)\n",
        "X_train, X_test, y_train, y_test = train_test_split(X, y, random_state=42)"
      ],
      "execution_count": null,
      "outputs": []
    },
    {
      "cell_type": "markdown",
      "metadata": {
        "id": "yJ5_OblqEfZW"
      },
      "source": [
        "선형모델 만든 후 학습시키기"
      ]
    },
    {
      "cell_type": "code",
      "metadata": {
        "id": "paMW1P2lEeOt"
      },
      "source": [
        "lr = LinearRegression().fit(X_train, y_train)"
      ],
      "execution_count": null,
      "outputs": []
    },
    {
      "cell_type": "markdown",
      "metadata": {
        "id": "IhXcWl1-Evjc"
      },
      "source": [
        "lr 객체 확인하기"
      ]
    },
    {
      "cell_type": "code",
      "metadata": {
        "colab": {
          "base_uri": "https://localhost:8080/"
        },
        "id": "qMc9SNyKEqbp",
        "outputId": "ef10303b-766f-494b-a86c-5fea40db4f8e"
      },
      "source": [
        "print('lr.coef_:',lr.coef_) # w 가중치, 기울기\n",
        "print('lr.intercept_:',lr.intercept_) # 절편"
      ],
      "execution_count": null,
      "outputs": [
        {
          "output_type": "stream",
          "text": [
            "lr.coef_: [0.39390555]\n",
            "lr.intercept_: -0.031804343026759746\n"
          ],
          "name": "stdout"
        }
      ]
    },
    {
      "cell_type": "markdown",
      "metadata": {
        "id": "Rl0Ey5eqFfAb"
      },
      "source": [
        "성능 평가"
      ]
    },
    {
      "cell_type": "code",
      "metadata": {
        "colab": {
          "base_uri": "https://localhost:8080/"
        },
        "id": "c22OKmq-FPY3",
        "outputId": "593b8089-4562-43ad-a53b-911d36b59f7c"
      },
      "source": [
        "print('훈련 세트 점수 :',lr.score(X_train,y_train))\n",
        "print('테스트 세트 점수 :',lr.score(X_test,y_test)) # 과소적합된 상황(underfitting): 훈련-테스트 세트의 점수가 비슷"
      ],
      "execution_count": null,
      "outputs": [
        {
          "output_type": "stream",
          "text": [
            "훈련 세트 점수 : 0.6700890315075756\n",
            "테스트 세트 점수 : 0.65933685968637\n"
          ],
          "name": "stdout"
        }
      ]
    },
    {
      "cell_type": "markdown",
      "metadata": {
        "id": "Qe70oyPRG6_i"
      },
      "source": [
        "### 보스턴 주택가격 데이터셋을 사용한 선형 회귀 성능 평가"
      ]
    },
    {
      "cell_type": "markdown",
      "metadata": {
        "id": "4WLQ5OJ6Hk0I"
      },
      "source": [
        "데이터셋 분리하기"
      ]
    },
    {
      "cell_type": "code",
      "metadata": {
        "id": "EjzlM4A1FqcE"
      },
      "source": [
        "X,y = mglearn.datasets.load_extended_boston()\n",
        "\n",
        "X_train, X_test, y_train, y_test = train_test_split(X,y,random_state=0)"
      ],
      "execution_count": null,
      "outputs": []
    },
    {
      "cell_type": "markdown",
      "metadata": {
        "id": "eCMRS-_SHmWb"
      },
      "source": [
        "훈련 데이터셋으로 학습하기"
      ]
    },
    {
      "cell_type": "code",
      "metadata": {
        "id": "5lGQ3WOJHgsy"
      },
      "source": [
        "lr = LinearRegression().fit(X_train, y_train)"
      ],
      "execution_count": null,
      "outputs": []
    },
    {
      "cell_type": "code",
      "metadata": {
        "colab": {
          "base_uri": "https://localhost:8080/"
        },
        "id": "ja3PtsdiHs-J",
        "outputId": "c99b768f-3f89-4a33-9913-fac994aaa1ba"
      },
      "source": [
        "print('훈련 세트 점수 :',lr.score(X_train,y_train))\n",
        "print('테스트 세트 점수 :',lr.score(X_test,y_test)) # 과대 적합 상태"
      ],
      "execution_count": null,
      "outputs": [
        {
          "output_type": "stream",
          "text": [
            "훈련 세트 점수 : 0.9520519609032727\n",
            "테스트 세트 점수 : 0.607472195966557\n"
          ],
          "name": "stdout"
        }
      ]
    },
    {
      "cell_type": "markdown",
      "metadata": {
        "id": "Ct5blpZHJTDC"
      },
      "source": [
        "### 릿지 회귀 -> 규제를 통해서 과대적합되지 않게 하기위한 선형모델"
      ]
    },
    {
      "cell_type": "markdown",
      "metadata": {
        "id": "eCYRvZ6IJax4"
      },
      "source": [
        "**보스턴 주택가격 데이터셋을 사용한 릿지 회귀 성능 평가**"
      ]
    },
    {
      "cell_type": "code",
      "metadata": {
        "id": "Sy6xbx9MHyd1"
      },
      "source": [
        "from sklearn.linear_model import Ridge\n",
        "\n",
        "ridge = Ridge().fit(X_train,y_train) # alpha=1.0"
      ],
      "execution_count": null,
      "outputs": []
    },
    {
      "cell_type": "markdown",
      "metadata": {
        "id": "vW2x6uiRJrOa"
      },
      "source": [
        "성능 평가"
      ]
    },
    {
      "cell_type": "code",
      "metadata": {
        "colab": {
          "base_uri": "https://localhost:8080/"
        },
        "id": "vXg4bLtnJqQb",
        "outputId": "8465c0a3-171f-46dc-c97d-8d2331d4a2ad"
      },
      "source": [
        "print('훈련 세트 점수 :',ridge.score(X_train,y_train))\n",
        "print('테스트 세트 점수 :',ridge.score(X_test,y_test))"
      ],
      "execution_count": null,
      "outputs": [
        {
          "output_type": "stream",
          "text": [
            "훈련 세트 점수 : 0.8857966585170941\n",
            "테스트 세트 점수 : 0.7527683481744751\n"
          ],
          "name": "stdout"
        }
      ]
    },
    {
      "cell_type": "markdown",
      "metadata": {
        "id": "9Z4D52-qJ-Is"
      },
      "source": [
        "alpha 매개변수를 통해 모델 설정"
      ]
    },
    {
      "cell_type": "code",
      "metadata": {
        "colab": {
          "base_uri": "https://localhost:8080/"
        },
        "id": "3Iln_otiJxnv",
        "outputId": "08531d1e-ea6c-4a1a-c712-30daf803f1e4"
      },
      "source": [
        "# alpha값을 조정하여 성능 평가\n",
        "ridge10 = Ridge(alpha=10).fit(X_train,y_train)\n",
        "print('훈련 세트 점수 :',ridge10.score(X_train,y_train))\n",
        "print('테스트 세트 점수 :',ridge10.score(X_test,y_test))"
      ],
      "execution_count": null,
      "outputs": [
        {
          "output_type": "stream",
          "text": [
            "훈련 세트 점수 : 0.7882787115369614\n",
            "테스트 세트 점수 : 0.6359411489177309\n"
          ],
          "name": "stdout"
        }
      ]
    },
    {
      "cell_type": "code",
      "metadata": {
        "colab": {
          "base_uri": "https://localhost:8080/"
        },
        "id": "QzjuiZuOKnFF",
        "outputId": "e4a7a580-3eef-4e91-b2dc-a676f004be79"
      },
      "source": [
        "# alpha값을 조정하여 성능 평가\n",
        "ridge01 = Ridge(alpha=0.1).fit(X_train,y_train)\n",
        "print('훈련 세트 점수 :',ridge01.score(X_train,y_train))\n",
        "print('테스트 세트 점수 :',ridge01.score(X_test,y_test))"
      ],
      "execution_count": null,
      "outputs": [
        {
          "output_type": "stream",
          "text": [
            "훈련 세트 점수 : 0.9282273685001992\n",
            "테스트 세트 점수 : 0.7722067936479818\n"
          ],
          "name": "stdout"
        }
      ]
    },
    {
      "cell_type": "code",
      "metadata": {
        "id": "Ft-cnARnKv9D"
      },
      "source": [
        "plt.rc('font', family ='NanumBarunGothic')\n",
        "plt.rcParams['axes.unicode_minus'] = False\n",
        "plt.figure(dpi = 200)\n",
        "\n",
        "plt.plot(ridge10.coef_, '^', label=\"Ridge alpha=10\")\n",
        "plt.plot(ridge.coef_, 's', label=\"Ridge alpha=1\")\n",
        "plt.plot(ridge01.coef_, 'v', label=\"Ridge alpha=0.1\")\n",
        "\n",
        "plt.plot(lr.coef_, 'o', label=\"LinearRegression\")\n",
        "plt.xlabel(\"계수 목록\")\n",
        "plt.ylabel(\"계수 크기\")\n",
        "xlims = plt.xlim()\n",
        "plt.hlines(0, xlims[0], xlims[1])\n",
        "plt.xlim(xlims)\n",
        "plt.ylim(-25, 25)\n",
        "plt.legend()\n",
        "plt.show()"
      ],
      "execution_count": null,
      "outputs": []
    },
    {
      "cell_type": "markdown",
      "metadata": {
        "id": "B84Qm61YPkpb"
      },
      "source": [
        "### Lasso"
      ]
    },
    {
      "cell_type": "markdown",
      "metadata": {
        "id": "KC39cISPPtz2"
      },
      "source": [
        "**확장된 보스턴 주택가격 데이터셋에 라쏘를 적용**"
      ]
    },
    {
      "cell_type": "code",
      "metadata": {
        "colab": {
          "base_uri": "https://localhost:8080/"
        },
        "id": "_jZu38qwOB1E",
        "outputId": "154e3227-3fa1-41d5-8240-daf29ca0942d"
      },
      "source": [
        "from sklearn.linear_model import Lasso\n",
        "import numpy as np\n",
        "\n",
        "lasso = Lasso().fit(X_train, y_train)\n",
        "print('훈련 세트 점수 :{:.2f}'.format(lasso.score(X_train,y_train)))\n",
        "print('테스트 세트 점수 :{:.2f}'.format(lasso.score(X_test,y_test)))\n",
        "print('사용한 특성의 개수:',np.sum(lasso.coef_ != 0))\n",
        "# 과소 적합된 상태!!, 공부 좀 더해~!"
      ],
      "execution_count": null,
      "outputs": [
        {
          "output_type": "stream",
          "text": [
            "훈련 세트 점수 :0.29\n",
            "테스트 세트 점수 :0.21\n",
            "사용한 특성의 개수: 4\n"
          ],
          "name": "stdout"
        }
      ]
    },
    {
      "cell_type": "markdown",
      "metadata": {
        "id": "NMnv09hVQoSY"
      },
      "source": [
        "과소 적합을 줄이기 위해서 alpha값 설정(규제를 줄여서 더 훈련시킴)"
      ]
    },
    {
      "cell_type": "code",
      "metadata": {
        "colab": {
          "base_uri": "https://localhost:8080/"
        },
        "id": "GvMykW9hQRCh",
        "outputId": "8c485fde-fafc-46bf-fce6-8d21e65a139a"
      },
      "source": [
        "lasso001 = Lasso(alpha=0.01).fit(X_train, y_train)\n",
        "print('훈련 세트 점수 :{:.2f}'.format(lasso001.score(X_train,y_train)))\n",
        "print('테스트 세트 점수 :{:.2f}'.format(lasso001.score(X_test,y_test)))\n",
        "print('사용한 특성의 개수:',np.sum(lasso001.coef_ != 0))"
      ],
      "execution_count": null,
      "outputs": [
        {
          "output_type": "stream",
          "text": [
            "훈련 세트 점수 :0.90\n",
            "테스트 세트 점수 :0.77\n",
            "사용한 특성의 개수: 32\n"
          ],
          "name": "stdout"
        },
        {
          "output_type": "stream",
          "text": [
            "/usr/local/lib/python3.7/dist-packages/sklearn/linear_model/_coordinate_descent.py:476: ConvergenceWarning: Objective did not converge. You might want to increase the number of iterations. Duality gap: 46.90245800318007, tolerance: 3.233182126649076\n",
            "  positive)\n"
          ],
          "name": "stderr"
        }
      ]
    }
  ]
}