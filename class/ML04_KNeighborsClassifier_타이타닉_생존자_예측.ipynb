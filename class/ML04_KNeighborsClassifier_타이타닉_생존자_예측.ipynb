{
  "nbformat": 4,
  "nbformat_minor": 0,
  "metadata": {
    "colab": {
      "name": "ML04_KNeighborsClassifier 타이타닉 생존자 예측.ipynb",
      "provenance": []
    },
    "kernelspec": {
      "name": "python3",
      "display_name": "Python 3"
    },
    "language_info": {
      "name": "python"
    }
  },
  "cells": [
    {
      "cell_type": "markdown",
      "metadata": {
        "id": "wpo7h5xmis9E"
      },
      "source": [
        "### 문제 정의: KNeighborsClassifier 사용하여 타이타닉 생존자(1),사망자(0) 예측"
      ]
    },
    {
      "cell_type": "markdown",
      "metadata": {
        "id": "SYb1GwAWi24D"
      },
      "source": [
        "기본 라이브러리 불러오기"
      ]
    },
    {
      "cell_type": "code",
      "metadata": {
        "id": "QfTLGQT3imW3"
      },
      "source": [
        "import pandas as pd\n",
        "import seaborn as sns"
      ],
      "execution_count": null,
      "outputs": []
    },
    {
      "cell_type": "code",
      "metadata": {
        "colab": {
          "base_uri": "https://localhost:8080/"
        },
        "id": "NsQL9QyyjB8l",
        "outputId": "62a5b90d-7add-4dc3-c706-d4bf69fe1db6"
      },
      "source": [
        "# 한글깨짐방지\n",
        "\n",
        "import matplotlib as mpl\n",
        "import matplotlib.pyplot as plt\n",
        " \n",
        "%config InlineBackend.figure_format = 'retina'\n",
        " \n",
        "!apt -qq -y install fonts-nanum\n",
        " \n",
        "import matplotlib.font_manager as fm\n",
        "\n",
        "fontpath = '/usr/share/fonts/truetype/nanum/NanumBarunGothic.ttf'\n",
        "font = fm.FontProperties(fname=fontpath, size=9)\n",
        "plt.rc('font', family='NanumBarunGothic') \n",
        "mpl.font_manager._rebuild()"
      ],
      "execution_count": null,
      "outputs": [
        {
          "output_type": "stream",
          "text": [
            "fonts-nanum is already the newest version (20170925-1).\n",
            "0 upgraded, 0 newly installed, 0 to remove and 39 not upgraded.\n"
          ],
          "name": "stdout"
        }
      ]
    },
    {
      "cell_type": "markdown",
      "metadata": {
        "id": "CLv0-bEjjJN0"
      },
      "source": [
        "[step1]데이터 준비_Seaborn에서 제공하는 titanic데이터셋 가져오기"
      ]
    },
    {
      "cell_type": "code",
      "metadata": {
        "id": "EwF6CVfjjQQ4"
      },
      "source": [
        "# load_dataset 함수를 사용하여 데이터프레임으로 변환\n",
        "df = sns.load_dataset('titanic')"
      ],
      "execution_count": null,
      "outputs": []
    },
    {
      "cell_type": "markdown",
      "metadata": {
        "id": "ovkc7qpjjY6v"
      },
      "source": [
        "[step2]데이터 탐색 및 데이터 전처리"
      ]
    },
    {
      "cell_type": "code",
      "metadata": {
        "id": "DzVUVEaTjW1L"
      },
      "source": [
        "df.head(3)"
      ],
      "execution_count": null,
      "outputs": []
    },
    {
      "cell_type": "code",
      "metadata": {
        "id": "d7n_TiJgjdFX"
      },
      "source": [
        "# 데이터 자료형 확인\n",
        "df.info()"
      ],
      "execution_count": null,
      "outputs": []
    },
    {
      "cell_type": "code",
      "metadata": {
        "id": "2MhQRHonjiU6"
      },
      "source": [
        "# NaN값이 많은 deck(객실 데크 위치) 열을 삭제\n",
        "# embarked와 내용이 겹치는 embark_town(승선 도시) 열을 삭제\n",
        "\n",
        "rdf = df.drop(['deck','embark_town'],axis=1)\n",
        "rdf.info()"
      ],
      "execution_count": null,
      "outputs": []
    },
    {
      "cell_type": "code",
      "metadata": {
        "id": "sqjLX5Balm_u"
      },
      "source": [
        "# age열에 나이 데이터가 없는 모든 행을 삭제 -> 177개 NaN 삭제\n",
        "rdf = rdf.dropna(subset=['age'], how='any') # age열에 있는 모든 NaN값을 지워\n",
        "rdf.info()"
      ],
      "execution_count": null,
      "outputs": []
    },
    {
      "cell_type": "code",
      "metadata": {
        "colab": {
          "base_uri": "https://localhost:8080/",
          "height": 35
        },
        "id": "CV2sqIQDmSkK",
        "outputId": "e7781721-3791-4c36-f818-8b1f43761da1"
      },
      "source": [
        "# embarked 열의 NaN값을 승선도시 중에서 가장 많이 출현한 값 확인 -> 탑승한 도시의 첫글자\n",
        "most_freq = rdf['embarked'].value_counts(dropna=True).idxmax()\n",
        "most_freq"
      ],
      "execution_count": null,
      "outputs": [
        {
          "output_type": "execute_result",
          "data": {
            "application/vnd.google.colaboratory.intrinsic+json": {
              "type": "string"
            },
            "text/plain": [
              "'S'"
            ]
          },
          "metadata": {
            "tags": []
          },
          "execution_count": 9
        }
      ]
    },
    {
      "cell_type": "code",
      "metadata": {
        "id": "Aic50YT2m1oh"
      },
      "source": [
        "# 승객이 제일 많이 탄 도시가 'S'임을 다시 확인\n",
        "rdf.describe(include='all')"
      ],
      "execution_count": null,
      "outputs": []
    },
    {
      "cell_type": "code",
      "metadata": {
        "id": "vYEfCrwmm8R8"
      },
      "source": [
        "# embarked 열의 NaN값을 승선도시 중에서 가장 많이 출현한 값으로 치환하기\n",
        "rdf['embarked'].fillna(most_freq, inplace=True)\n",
        "rdf.info()"
      ],
      "execution_count": null,
      "outputs": []
    },
    {
      "cell_type": "markdown",
      "metadata": {
        "id": "TQoUhv80ngp4"
      },
      "source": [
        "[step3]분석에 사용할 속성을 선택"
      ]
    },
    {
      "cell_type": "code",
      "metadata": {
        "id": "NM5J3Y2AnYdR"
      },
      "source": [
        "# 분석에 활용할 열(속성)을 선택(생존여부, 객실등급, 성별, 나이, 타이타닉 탑승한 형제 자매수,\n",
        "# 타이타닉에 탑승한 부모/자녀 수, 탑승한 곳(항구), C=Cherbourg, Q=Queenstown, S=Southhamton)\n",
        "ndf = rdf[['survived','pclass','sex','age','sibsp','parch','embarked']]\n",
        "ndf.head()"
      ],
      "execution_count": null,
      "outputs": []
    },
    {
      "cell_type": "code",
      "metadata": {
        "id": "WPK6CCV4oMFa"
      },
      "source": [
        "# 원학인코딩 - 범주형 데이터를 모형이 인식할 수 있도록 숫자형으로 변경\n",
        "# male,female -> [1,0],[0,1]\n",
        "\n",
        "onehot_sex = pd.get_dummies(ndf['sex'])\n",
        "ndf = pd.concat([ndf, onehot_sex],axis=1)\n",
        "ndf.head(3)"
      ],
      "execution_count": null,
      "outputs": []
    },
    {
      "cell_type": "code",
      "metadata": {
        "id": "uVGsATNLpVr3"
      },
      "source": [
        "# embarked C, Q, S -> [1,0,0],[0,1,0],[0,0,1]\n",
        "\n",
        "onehot_embarked = pd.get_dummies(ndf['embarked'], prefix='town')\n",
        "ndf = pd.concat([ndf, onehot_embarked],axis=1)\n",
        "ndf.head(3)"
      ],
      "execution_count": null,
      "outputs": []
    },
    {
      "cell_type": "code",
      "metadata": {
        "id": "h3az0KfKqQ7R"
      },
      "source": [
        "# 기존 컬럼 삭제\n",
        "ndf.drop(['sex','embarked'],axis=1,inplace=True)\n",
        "ndf.head(3)"
      ],
      "execution_count": null,
      "outputs": []
    },
    {
      "cell_type": "markdown",
      "metadata": {
        "id": "xq_dlmK3utpK"
      },
      "source": [
        "[step4]데이터셋 구분_훈련용(train data)/검증용(test data)"
      ]
    },
    {
      "cell_type": "code",
      "metadata": {
        "id": "SA6a7Zluqd-s"
      },
      "source": [
        "# ndf -> X,y(문제집, 정답지)\n",
        "X = ndf[['pclass','age','sibsp','parch','female','male','town_C','town_Q','town_S']] # 독립변수\n",
        "y = ndf['survived']\n",
        "\n",
        "X,y"
      ],
      "execution_count": null,
      "outputs": []
    },
    {
      "cell_type": "code",
      "metadata": {
        "colab": {
          "base_uri": "https://localhost:8080/"
        },
        "id": "GjsAmBHWvROC",
        "outputId": "aebeb7eb-9992-4929-e2fe-311b13420349"
      },
      "source": [
        "# train 데이터와 test 데이터로 구분(7:3 비율)\n",
        "from sklearn.model_selection import train_test_split\n",
        "\n",
        "X_train, X_test, y_train, y_test = train_test_split(X, y, test_size=0.3, random_state=7)\n",
        "print(X_train.shape)\n",
        "print(X_test.shape)"
      ],
      "execution_count": null,
      "outputs": [
        {
          "output_type": "stream",
          "text": [
            "(499, 9)\n",
            "(215, 9)\n"
          ],
          "name": "stdout"
        }
      ]
    },
    {
      "cell_type": "markdown",
      "metadata": {
        "id": "l6fz1aNkx6Va"
      },
      "source": [
        "[step5] KNN 분류 모형_sklearn 사용"
      ]
    },
    {
      "cell_type": "code",
      "metadata": {
        "colab": {
          "base_uri": "https://localhost:8080/"
        },
        "id": "dvUVkqa4x_4k",
        "outputId": "d45a3f0c-d58e-408c-cc1f-3f60b49e456c"
      },
      "source": [
        "# sklearn 라이브러리에서 KNN분류 모형 가져오기\n",
        "from sklearn.neighbors import KNeighborsClassifier\n",
        "\n",
        "# 모형 객체 생성(k=5로 설정)\n",
        "knn = KNeighborsClassifier(n_neighbors=5)\n",
        "\n",
        "# train 데이터를 사용하여 모형 학습\n",
        "knn.fit(X_train, y_train)"
      ],
      "execution_count": null,
      "outputs": [
        {
          "output_type": "execute_result",
          "data": {
            "text/plain": [
              "KNeighborsClassifier(algorithm='auto', leaf_size=30, metric='minkowski',\n",
              "                     metric_params=None, n_jobs=None, n_neighbors=5, p=2,\n",
              "                     weights='uniform')"
            ]
          },
          "metadata": {
            "tags": []
          },
          "execution_count": 20
        }
      ]
    },
    {
      "cell_type": "code",
      "metadata": {
        "colab": {
          "base_uri": "https://localhost:8080/"
        },
        "id": "skuvUbvHyd91",
        "outputId": "422d97d0-50de-4118-fbb6-7f812bdb78d0"
      },
      "source": [
        "# test 데이터를 가지고 y_hat을 예측(분류)\n",
        "y_hat = knn.predict(X_test)\n",
        "\n",
        "print(y_hat[0:10])\n",
        "print(y_test.values[0:10])"
      ],
      "execution_count": null,
      "outputs": [
        {
          "output_type": "stream",
          "text": [
            "[0 1 0 1 1 0 0 0 0 0]\n",
            "[0 1 0 1 0 0 1 0 0 0]\n"
          ],
          "name": "stdout"
        }
      ]
    },
    {
      "cell_type": "markdown",
      "metadata": {
        "id": "PyBLZjvxyyk7"
      },
      "source": [
        "모델 성능 평가"
      ]
    },
    {
      "cell_type": "code",
      "metadata": {
        "id": "LFRZCioFywRn"
      },
      "source": [
        "from sklearn import metrics\n",
        "\n",
        "# 모형 성능 평가 - 평가지표 계산\n",
        "knn_report = metrics.classification_report(y_test, y_hat)\n",
        "print('테스트 평가지표 n_neighbors=5')\n",
        "print(knn_report)"
      ],
      "execution_count": null,
      "outputs": []
    },
    {
      "cell_type": "code",
      "metadata": {
        "colab": {
          "base_uri": "https://localhost:8080/"
        },
        "id": "MZDhOi81zUwF",
        "outputId": "d0a4ec56-5331-4aef-f3a2-3fd6053cb526"
      },
      "source": [
        "# sklearn을 이용하면 전부 계산해준다.\n",
        "print('accuracy:',metrics.accuracy_score(y_test, y_hat))\n",
        "print('precision:',metrics.precision_score(y_test, y_hat))\n",
        "print('recall:',metrics.recall_score(y_test, y_hat))\n",
        "print('f1:',metrics.f1_score(y_test, y_hat))"
      ],
      "execution_count": null,
      "outputs": [
        {
          "output_type": "stream",
          "text": [
            "accuracy: 0.7906976744186046\n",
            "precision: 0.782051282051282\n",
            "recall: 0.6853932584269663\n",
            "f1: 0.7305389221556887\n"
          ],
          "name": "stdout"
        }
      ]
    },
    {
      "cell_type": "code",
      "metadata": {
        "id": "VfVBG9DWzmNV"
      },
      "source": [
        "# 이웃의 수에 따른 정확도 저장할 리스트 변수\n",
        "train_accuracy = []\n",
        "test_accuracy = []\n",
        "\n",
        "# 1에서 10까지 n_neighbors를 적용\n",
        "neighbors_settings = range(1,11)\n",
        "\n",
        "for n_neighbors in neighbors_settings :\n",
        "  # 모델 생성\n",
        "  clf = KNeighborsClassifier(n_neighbors=n_neighbors)\n",
        "  clf.fit(X_train, y_train)\n",
        "\n",
        "  # 훈련 세트 정확도 저장\n",
        "  train_accuracy.append(clf.score(X_train, y_train))\n",
        "\n",
        "  # 테스트 세트 정확도 저장\n",
        "  test_accuracy.append(clf.score(X_test, y_test))\n",
        "\n",
        "plt.figure(dpi=100)\n",
        "plt.rc('font', family='NanumBarunGothic')\n",
        "plt.style.use('ggplot')\n",
        "plt.plot(neighbors_settings, train_accuracy, label='훈련 정확도')\n",
        "plt.plot(neighbors_settings, test_accuracy, label='테스트 정확도')\n",
        "plt.ylabel('정확도')\n",
        "plt.xlabel('n_neighbors')\n",
        "plt.legend()\n",
        "plt.show()\n",
        "\n",
        "# n_neigbors=5인경우가 최상의 정확도\n",
        "# 훈련정확도가 1.0이면 overfitting(과대적합)을 의심할 것\n",
        "# 모델들의 기본 성능은 50%이상으로 생각할 것(이하면 모델을 다시 생각해볼 것)"
      ],
      "execution_count": null,
      "outputs": []
    }
  ]
}