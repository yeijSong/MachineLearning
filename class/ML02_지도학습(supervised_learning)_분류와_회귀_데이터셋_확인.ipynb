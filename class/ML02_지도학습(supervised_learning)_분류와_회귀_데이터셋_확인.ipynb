{
  "nbformat": 4,
  "nbformat_minor": 0,
  "metadata": {
    "colab": {
      "name": "ML02_지도학습(supervised-learning) 분류와 회귀 데이터셋 확인.ipynb",
      "provenance": []
    },
    "kernelspec": {
      "name": "python3",
      "display_name": "Python 3"
    },
    "language_info": {
      "name": "python"
    }
  },
  "cells": [
    {
      "cell_type": "markdown",
      "metadata": {
        "id": "3SAOZKaD6TWf"
      },
      "source": [
        "## 지도 학습<br>\n",
        "**분류와 회귀**"
      ]
    },
    {
      "cell_type": "markdown",
      "metadata": {
        "id": "6kzhXQ-J6noX"
      },
      "source": [
        "지도 학습 알고리즘"
      ]
    },
    {
      "cell_type": "code",
      "metadata": {
        "colab": {
          "base_uri": "https://localhost:8080/"
        },
        "id": "vCp9ryKQ6LGD",
        "outputId": "a36fd757-ceeb-4d30-8610-0b8767a5a1f6"
      },
      "source": [
        "pip install mglearn"
      ],
      "execution_count": null,
      "outputs": [
        {
          "output_type": "stream",
          "text": [
            "Requirement already satisfied: mglearn in /usr/local/lib/python3.7/dist-packages (0.1.9)\n",
            "Requirement already satisfied: imageio in /usr/local/lib/python3.7/dist-packages (from mglearn) (2.4.1)\n",
            "Requirement already satisfied: numpy in /usr/local/lib/python3.7/dist-packages (from mglearn) (1.19.5)\n",
            "Requirement already satisfied: scikit-learn in /usr/local/lib/python3.7/dist-packages (from mglearn) (0.22.2.post1)\n",
            "Requirement already satisfied: pillow in /usr/local/lib/python3.7/dist-packages (from mglearn) (7.1.2)\n",
            "Requirement already satisfied: joblib in /usr/local/lib/python3.7/dist-packages (from mglearn) (1.0.1)\n",
            "Requirement already satisfied: matplotlib in /usr/local/lib/python3.7/dist-packages (from mglearn) (3.2.2)\n",
            "Requirement already satisfied: pandas in /usr/local/lib/python3.7/dist-packages (from mglearn) (1.1.5)\n",
            "Requirement already satisfied: cycler in /usr/local/lib/python3.7/dist-packages (from mglearn) (0.10.0)\n",
            "Requirement already satisfied: scipy>=0.17.0 in /usr/local/lib/python3.7/dist-packages (from scikit-learn->mglearn) (1.4.1)\n",
            "Requirement already satisfied: pyparsing!=2.0.4,!=2.1.2,!=2.1.6,>=2.0.1 in /usr/local/lib/python3.7/dist-packages (from matplotlib->mglearn) (2.4.7)\n",
            "Requirement already satisfied: python-dateutil>=2.1 in /usr/local/lib/python3.7/dist-packages (from matplotlib->mglearn) (2.8.1)\n",
            "Requirement already satisfied: kiwisolver>=1.0.1 in /usr/local/lib/python3.7/dist-packages (from matplotlib->mglearn) (1.3.1)\n",
            "Requirement already satisfied: pytz>=2017.2 in /usr/local/lib/python3.7/dist-packages (from pandas->mglearn) (2018.9)\n",
            "Requirement already satisfied: six in /usr/local/lib/python3.7/dist-packages (from cycler->mglearn) (1.15.0)\n"
          ],
          "name": "stdout"
        }
      ]
    },
    {
      "cell_type": "markdown",
      "metadata": {
        "id": "BilV8O6m6x5v"
      },
      "source": [
        "한글 깨짐 방지"
      ]
    },
    {
      "cell_type": "code",
      "metadata": {
        "colab": {
          "base_uri": "https://localhost:8080/"
        },
        "id": "z8cQ2LNH6uOt",
        "outputId": "08d8f7a4-5702-4b77-c5da-7e1dccee08e3"
      },
      "source": [
        "import matplotlib as mpl\n",
        "import matplotlib.pyplot as plt\n",
        " \n",
        "%config InlineBackend.figure_format = 'retina'\n",
        " \n",
        "!apt -qq -y install fonts-nanum\n",
        " \n",
        "import matplotlib.font_manager as fm\n",
        "\n",
        "fontpath = '/usr/share/fonts/truetype/nanum/NanumBarunGothic.ttf'\n",
        "font = fm.FontProperties(fname=fontpath, size=9)\n",
        "plt.rc('font', family='NanumBarunGothic') \n",
        "mpl.font_manager._rebuild()"
      ],
      "execution_count": null,
      "outputs": [
        {
          "output_type": "stream",
          "text": [
            "fonts-nanum is already the newest version (20170925-1).\n",
            "0 upgraded, 0 newly installed, 0 to remove and 39 not upgraded.\n"
          ],
          "name": "stdout"
        }
      ]
    },
    {
      "cell_type": "markdown",
      "metadata": {
        "id": "4zT00Zx36-z0"
      },
      "source": [
        "### 예제에 사용할 dataset"
      ]
    },
    {
      "cell_type": "markdown",
      "metadata": {
        "id": "YyMNMbmH7Gzl"
      },
      "source": [
        "**1. 이진 분류 데이터셋(forge) 확인하기**"
      ]
    },
    {
      "cell_type": "markdown",
      "metadata": {
        "id": "I58lopTE7M1D"
      },
      "source": [
        "데이터셋 다운로드"
      ]
    },
    {
      "cell_type": "code",
      "metadata": {
        "colab": {
          "base_uri": "https://localhost:8080/"
        },
        "id": "wS2gvfPp62JW",
        "outputId": "88a66c24-d608-4c3e-fb8d-dad3a6ce6757"
      },
      "source": [
        "import mglearn\n",
        "import matplotlib.pyplot as plt\n",
        "\n",
        "# 데이터셋 만들기\n",
        "X,y = mglearn.datasets.make_forge()"
      ],
      "execution_count": null,
      "outputs": [
        {
          "output_type": "stream",
          "text": [
            "/usr/local/lib/python3.7/dist-packages/sklearn/utils/deprecation.py:87: FutureWarning: Function make_blobs is deprecated; Please import make_blobs directly from scikit-learn\n",
            "  warnings.warn(msg, category=FutureWarning)\n"
          ],
          "name": "stderr"
        }
      ]
    },
    {
      "cell_type": "markdown",
      "metadata": {
        "id": "YFUVbfYn7k2Z"
      },
      "source": [
        "데이터 확인하기"
      ]
    },
    {
      "cell_type": "code",
      "metadata": {
        "colab": {
          "base_uri": "https://localhost:8080/"
        },
        "id": "d4JlEEvJ7uqY",
        "outputId": "43b20df5-c492-4ce1-955a-8ba3c077056a"
      },
      "source": [
        "X,y"
      ],
      "execution_count": null,
      "outputs": [
        {
          "output_type": "execute_result",
          "data": {
            "text/plain": [
              "(array([[ 9.96346605,  4.59676542],\n",
              "        [11.0329545 , -0.16816717],\n",
              "        [11.54155807,  5.21116083],\n",
              "        [ 8.69289001,  1.54322016],\n",
              "        [ 8.1062269 ,  4.28695977],\n",
              "        [ 8.30988863,  4.80623966],\n",
              "        [11.93027136,  4.64866327],\n",
              "        [ 9.67284681, -0.20283165],\n",
              "        [ 8.34810316,  5.13415623],\n",
              "        [ 8.67494727,  4.47573059],\n",
              "        [ 9.17748385,  5.09283177],\n",
              "        [10.24028948,  2.45544401],\n",
              "        [ 8.68937095,  1.48709629],\n",
              "        [ 8.92229526, -0.63993225],\n",
              "        [ 9.49123469,  4.33224792],\n",
              "        [ 9.25694192,  5.13284858],\n",
              "        [ 7.99815287,  4.8525051 ],\n",
              "        [ 8.18378052,  1.29564214],\n",
              "        [ 8.7337095 ,  2.49162431],\n",
              "        [ 9.32298256,  5.09840649],\n",
              "        [10.06393839,  0.99078055],\n",
              "        [ 9.50048972, -0.26430318],\n",
              "        [ 8.34468785,  1.63824349],\n",
              "        [ 9.50169345,  1.93824624],\n",
              "        [ 9.15072323,  5.49832246],\n",
              "        [11.563957  ,  1.3389402 ]]),\n",
              " array([1, 0, 1, 0, 0, 1, 1, 0, 1, 1, 1, 1, 0, 0, 1, 1, 1, 0, 0, 1, 0, 0,\n",
              "        0, 0, 1, 0]))"
            ]
          },
          "metadata": {
            "tags": []
          },
          "execution_count": 4
        }
      ]
    },
    {
      "cell_type": "code",
      "metadata": {
        "colab": {
          "base_uri": "https://localhost:8080/"
        },
        "id": "HgiTuZAK7cx7",
        "outputId": "5f8ccd84-b6c5-4574-8857-88af2fa94833"
      },
      "source": [
        "print('X.shape:',X.shape)\n",
        "print('y.shape:',y.shape)"
      ],
      "execution_count": null,
      "outputs": [
        {
          "output_type": "stream",
          "text": [
            "X.shape: (26, 2)\n",
            "y.shape: (26,)\n"
          ],
          "name": "stdout"
        }
      ]
    },
    {
      "cell_type": "code",
      "metadata": {
        "id": "dJ94rHz27yIo"
      },
      "source": [
        "# 분류에 해당하는 문제\n",
        "\n",
        "plt.figure(dpi=200)\n",
        "plt.rc('font', family='NanumBarunGothic')\n",
        "\n",
        "# 산점도 그리기\n",
        "mglearn.discrete_scatter(X[:,0],X[:,1], y)\n",
        "# X[:,0]X값 전체를 가져올건데 인덱스값 0인 애들은 x축에 1인 애들은y축에\n",
        "# 불러온 데이터의 y값(0,1)에 따라 색을 다르게 준 것임\n",
        "\n",
        "plt.legend(['클래스 0','클래스 1'], loc=4)\n",
        "plt.xlabel('첫 번째 특성')\n",
        "plt.ylabel('두 번째 특성')\n",
        "plt.show()"
      ],
      "execution_count": null,
      "outputs": []
    },
    {
      "cell_type": "markdown",
      "metadata": {
        "id": "7-scsg8HCUUl"
      },
      "source": [
        "**2. 회귀 데이터셋(wave) 확인하기**"
      ]
    },
    {
      "cell_type": "markdown",
      "metadata": {
        "id": "zEEhn7E4Cb8J"
      },
      "source": [
        "데이터 다운로드"
      ]
    },
    {
      "cell_type": "code",
      "metadata": {
        "id": "c5JjSMPb83pH"
      },
      "source": [
        "X, y = mglearn.datasets.make_wave(n_samples=40)"
      ],
      "execution_count": null,
      "outputs": []
    },
    {
      "cell_type": "code",
      "metadata": {
        "id": "c6yIit2DClm0"
      },
      "source": [
        "X,y"
      ],
      "execution_count": null,
      "outputs": []
    },
    {
      "cell_type": "code",
      "metadata": {
        "colab": {
          "base_uri": "https://localhost:8080/"
        },
        "id": "M3B7j_RACnCV",
        "outputId": "cd031db1-e751-4d1b-b975-8c2fb5dfb2cb"
      },
      "source": [
        "print('X.shape:',X.shape)\n",
        "print('y.shape:',y.shape)"
      ],
      "execution_count": null,
      "outputs": [
        {
          "output_type": "stream",
          "text": [
            "X.shape: (40, 1)\n",
            "y.shape: (40,)\n"
          ],
          "name": "stdout"
        }
      ]
    },
    {
      "cell_type": "code",
      "metadata": {
        "id": "Pztx-xc9C0LL"
      },
      "source": [
        "# 회귀에 해당하는 문제\n",
        "\n",
        "# 산점도 그리기\n",
        "plt.figure(dpi=200)\n",
        "plt.rc('font', family='NanumBarunGothic')\n",
        "plt.rcParams['axes.unicode_minus'] = False\n",
        "\n",
        "plt.plot(X,y, 'o')\n",
        "plt.ylim(-3,3)\n",
        "plt.xlabel('특성')\n",
        "plt.ylabel('타깃')\n",
        "plt.show()"
      ],
      "execution_count": null,
      "outputs": []
    },
    {
      "cell_type": "markdown",
      "metadata": {
        "id": "tPVME3_6FrxH"
      },
      "source": [
        "### 위스콘신 유방암 dataset(유방암 종양의 임상 데이터 기록)"
      ]
    },
    {
      "cell_type": "markdown",
      "metadata": {
        "id": "BY6vjMBNfqML"
      },
      "source": [
        "**분류 문제정의: 위스콘신 유방암 dataset을 사용한 악성종양(Lable, 1)예측하기**"
      ]
    },
    {
      "cell_type": "markdown",
      "metadata": {
        "id": "GXnvaF_PF4Rt"
      },
      "source": [
        "데이터 준비하기(https://archive.ics.uci.edu/ml/datasets/Breast+Cancer+Wisconsin+(Diagnostic))"
      ]
    },
    {
      "cell_type": "code",
      "metadata": {
        "colab": {
          "base_uri": "https://localhost:8080/"
        },
        "id": "PsvdnRqCDJj9",
        "outputId": "e4b2227b-ac76-4c03-b904-b7c0fbc8e0e2"
      },
      "source": [
        "from sklearn.datasets import load_breast_cancer\n",
        "\n",
        "cancer = load_breast_cancer()\n",
        "cancer.keys() # 데이터셋 키 확인"
      ],
      "execution_count": null,
      "outputs": [
        {
          "output_type": "execute_result",
          "data": {
            "text/plain": [
              "dict_keys(['data', 'target', 'target_names', 'DESCR', 'feature_names', 'filename'])"
            ]
          },
          "metadata": {
            "tags": []
          },
          "execution_count": 11
        }
      ]
    },
    {
      "cell_type": "markdown",
      "metadata": {
        "id": "NWZ6mPQlGTuJ"
      },
      "source": [
        "데이터 확인하기"
      ]
    },
    {
      "cell_type": "code",
      "metadata": {
        "colab": {
          "base_uri": "https://localhost:8080/"
        },
        "id": "_CIqhvCoGF4R",
        "outputId": "cf6ed5d9-8b73-4640-c09b-6e6b122359c0"
      },
      "source": [
        "cancer.data.shape #유방암 데이터의 형태 ->569건, 특성 30개"
      ],
      "execution_count": null,
      "outputs": [
        {
          "output_type": "execute_result",
          "data": {
            "text/plain": [
              "(569, 30)"
            ]
          },
          "metadata": {
            "tags": []
          },
          "execution_count": 12
        }
      ]
    },
    {
      "cell_type": "code",
      "metadata": {
        "colab": {
          "base_uri": "https://localhost:8080/"
        },
        "id": "nKf6j4QsGaZd",
        "outputId": "73180779-2381-46b1-a443-56a77b085640"
      },
      "source": [
        "# 클래스별 샘플 개수\n",
        "\n",
        "import numpy as np\n",
        "\n",
        "# 악성, 양성 종양의 비율 37% : 63%\n",
        "{n: v for n, v in zip(cancer.target_names, np.bincount(cancer.target))}"
      ],
      "execution_count": null,
      "outputs": [
        {
          "output_type": "execute_result",
          "data": {
            "text/plain": [
              "{'benign': 357, 'malignant': 212}"
            ]
          },
          "metadata": {
            "tags": []
          },
          "execution_count": 13
        }
      ]
    },
    {
      "cell_type": "code",
      "metadata": {
        "colab": {
          "base_uri": "https://localhost:8080/"
        },
        "id": "OPAg2edeHEmA",
        "outputId": "3681c0a8-1c70-4b2e-a9e1-a1280e95317c"
      },
      "source": [
        "# 데이터의 특성(feature) 확인\n",
        "cancer.feature_names"
      ],
      "execution_count": null,
      "outputs": [
        {
          "output_type": "execute_result",
          "data": {
            "text/plain": [
              "array(['mean radius', 'mean texture', 'mean perimeter', 'mean area',\n",
              "       'mean smoothness', 'mean compactness', 'mean concavity',\n",
              "       'mean concave points', 'mean symmetry', 'mean fractal dimension',\n",
              "       'radius error', 'texture error', 'perimeter error', 'area error',\n",
              "       'smoothness error', 'compactness error', 'concavity error',\n",
              "       'concave points error', 'symmetry error',\n",
              "       'fractal dimension error', 'worst radius', 'worst texture',\n",
              "       'worst perimeter', 'worst area', 'worst smoothness',\n",
              "       'worst compactness', 'worst concavity', 'worst concave points',\n",
              "       'worst symmetry', 'worst fractal dimension'], dtype='<U23')"
            ]
          },
          "metadata": {
            "tags": []
          },
          "execution_count": 14
        }
      ]
    },
    {
      "cell_type": "markdown",
      "metadata": {
        "id": "7D1_FYgAHj-E"
      },
      "source": [
        "### 보스턴 주택가격 회귀 분석용 실제 dataset"
      ]
    },
    {
      "cell_type": "markdown",
      "metadata": {
        "id": "suVI5QIaIQUH"
      },
      "source": [
        "**회귀 문제정의: 보스턴 주택가격 dataset을 사용한 보스턴 주변의 주택 평균가격 예측하기**"
      ]
    },
    {
      "cell_type": "markdown",
      "metadata": {
        "id": "FUguoWu8H1be"
      },
      "source": [
        "데이터 준비하기(https://www.kaggle.com/c/boston-housing)"
      ]
    },
    {
      "cell_type": "code",
      "metadata": {
        "id": "fODUOeGeHJRM"
      },
      "source": [
        "from sklearn.datasets import load_boston\n",
        "\n",
        "boston = load_boston()"
      ],
      "execution_count": null,
      "outputs": []
    },
    {
      "cell_type": "markdown",
      "metadata": {
        "id": "67KIJhH0IgMy"
      },
      "source": [
        "데이터 확인하기"
      ]
    },
    {
      "cell_type": "code",
      "metadata": {
        "colab": {
          "base_uri": "https://localhost:8080/"
        },
        "id": "tlCWDFeyIfk2",
        "outputId": "c9e45c77-bbde-4253-af5b-db93d1c7b041"
      },
      "source": [
        "# 데이터 형태확인\n",
        "boston.data.shape"
      ],
      "execution_count": null,
      "outputs": [
        {
          "output_type": "execute_result",
          "data": {
            "text/plain": [
              "(506, 13)"
            ]
          },
          "metadata": {
            "tags": []
          },
          "execution_count": 19
        }
      ]
    },
    {
      "cell_type": "code",
      "metadata": {
        "colab": {
          "base_uri": "https://localhost:8080/"
        },
        "id": "BmE5Ocx6ImC9",
        "outputId": "6aebe305-f65e-44b3-89d3-34d0d543c13a"
      },
      "source": [
        "# 데이터의 특성(feature) 확인\n",
        "boston.feature_names"
      ],
      "execution_count": null,
      "outputs": [
        {
          "output_type": "execute_result",
          "data": {
            "text/plain": [
              "array(['CRIM', 'ZN', 'INDUS', 'CHAS', 'NOX', 'RM', 'AGE', 'DIS', 'RAD',\n",
              "       'TAX', 'PTRATIO', 'B', 'LSTAT'], dtype='<U7')"
            ]
          },
          "metadata": {
            "tags": []
          },
          "execution_count": 20
        }
      ]
    }
  ]
}